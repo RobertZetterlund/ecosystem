{
 "cells": [
  {
   "cell_type": "markdown",
   "metadata": {},
   "source": [
    "# Script for generating trait + population graphs\n",
    "Plots each species in one simulation on the same graph (for comparison between species)\n",
    "Prints each trait from all simulations next to each other (for comparison between different simulations)"
   ]
  },
  {
   "cell_type": "code",
   "execution_count": 1,
   "metadata": {},
   "outputs": [],
   "source": [
    "export = False"
   ]
  },
  {
   "cell_type": "code",
   "execution_count": 2,
   "metadata": {},
   "outputs": [],
   "source": [
    "# basic imports and reading of file\n",
    "import matplotlib.pyplot as plt\n",
    "from matplotlib.ticker import FormatStrFormatter\n",
    "import pandas as pd\n",
    "import numpy as np\n",
    "from os import listdir\n",
    "from os.path import isfile, join\n",
    "from pathlib import Path\n",
    "import glob\n",
    "import time\n",
    "import networkx as nx\n",
    "import json"
   ]
  },
  {
   "cell_type": "code",
   "execution_count": 3,
   "metadata": {},
   "outputs": [],
   "source": [
    "# load logs\n",
    "traits = []\n",
    "fcms = []\n",
    "dataframes = []\n",
    "fcmJsons = []\n",
    "\n",
    "subFolders = glob.glob(\"Logs/*/\")\n",
    "for sub in subFolders:\n",
    "    traits = traits + glob.glob(sub +\"*.txt\")\n",
    "    fcms = fcms + glob.glob(sub + \"*.json\")\n",
    "for file in traits:\n",
    "    dataframes.append((pd.read_csv(file), file.split('\\\\')[1]))\n",
    "for file in fcms:\n",
    "    with open(file, 'r') as f:\n",
    "        fcm = json.load(f)\n",
    "    fcmJsons.append((fcm, file.split('\\\\')[1], file.split('\\\\')[2].split('.')[0]))"
   ]
  },
  {
   "cell_type": "code",
   "execution_count": 4,
   "metadata": {},
   "outputs": [],
   "source": [
    "# see what species and traits exist\n",
    "species = set()\n",
    "traits = set()\n",
    "for df in dataframes:\n",
    "    for col in df[0].columns:\n",
    "        species.add(col.split('-')[0])\n",
    "        traits.add(col.split('-')[1])"
   ]
  },
  {
   "cell_type": "code",
   "execution_count": 5,
   "metadata": {},
   "outputs": [],
   "source": [
    "# make export folder\n",
    "folder=\"Graphs/\" + time.strftime(\"%m-%d--%H-%M-%S\")\n",
    "Path(folder).mkdir(parents=True, exist_ok=True)"
   ]
  },
  {
   "cell_type": "code",
   "execution_count": 7,
   "metadata": {
    "scrolled": true
   },
   "outputs": [
    {
     "ename": "NameError",
     "evalue": "name 'check_planarity' is not defined",
     "output_type": "error",
     "traceback": [
      "\u001b[1;31m---------------------------------------------------------------------------\u001b[0m",
      "\u001b[1;31mNameError\u001b[0m                                 Traceback (most recent call last)",
      "\u001b[1;32m<ipython-input-7-0428626f7411>\u001b[0m in \u001b[0;36m<module>\u001b[1;34m\u001b[0m\n\u001b[0;32m     15\u001b[0m                              for u,v,d in G.edges(data=True)])\n\u001b[0;32m     16\u001b[0m \u001b[1;33m\u001b[0m\u001b[0m\n\u001b[1;32m---> 17\u001b[1;33m             \u001b[0mprint\u001b[0m\u001b[1;33m(\u001b[0m\u001b[0mcheck_planarity\u001b[0m\u001b[1;33m(\u001b[0m\u001b[0mG\u001b[0m\u001b[1;33m,\u001b[0m \u001b[1;32mTrue\u001b[0m\u001b[1;33m)\u001b[0m\u001b[1;33m)\u001b[0m\u001b[1;33m\u001b[0m\u001b[1;33m\u001b[0m\u001b[0m\n\u001b[0m\u001b[0;32m     18\u001b[0m             \u001b[0mpos\u001b[0m\u001b[1;33m=\u001b[0m\u001b[0mnx\u001b[0m\u001b[1;33m.\u001b[0m\u001b[0mplanar_layout\u001b[0m\u001b[1;33m(\u001b[0m\u001b[0mG\u001b[0m\u001b[1;33m)\u001b[0m\u001b[1;33m\u001b[0m\u001b[1;33m\u001b[0m\u001b[0m\n\u001b[0;32m     19\u001b[0m             \u001b[0mnx\u001b[0m\u001b[1;33m.\u001b[0m\u001b[0mdraw_networkx\u001b[0m\u001b[1;33m(\u001b[0m\u001b[0mG\u001b[0m\u001b[1;33m,\u001b[0m \u001b[0mpos\u001b[0m\u001b[1;33m,\u001b[0m \u001b[0marrows\u001b[0m\u001b[1;33m=\u001b[0m\u001b[1;32mTrue\u001b[0m\u001b[1;33m,\u001b[0m \u001b[0marrowsize\u001b[0m\u001b[1;33m=\u001b[0m\u001b[1;36m20\u001b[0m\u001b[1;33m,\u001b[0m \u001b[0mwith_labels\u001b[0m\u001b[1;33m=\u001b[0m\u001b[1;32mTrue\u001b[0m\u001b[1;33m,\u001b[0m \u001b[0mnode_size\u001b[0m\u001b[1;33m=\u001b[0m\u001b[1;36m600\u001b[0m\u001b[1;33m,\u001b[0m \u001b[0mfont_color\u001b[0m\u001b[1;33m=\u001b[0m\u001b[1;34m'black'\u001b[0m\u001b[1;33m,\u001b[0m \u001b[0max\u001b[0m \u001b[1;33m=\u001b[0m \u001b[0maxes\u001b[0m\u001b[1;33m[\u001b[0m\u001b[0mcounter\u001b[0m\u001b[1;33m]\u001b[0m\u001b[1;33m,\u001b[0m \u001b[0mtitle\u001b[0m \u001b[1;33m=\u001b[0m \u001b[0mfcm\u001b[0m\u001b[1;33m[\u001b[0m\u001b[1;36m1\u001b[0m\u001b[1;33m]\u001b[0m\u001b[1;33m)\u001b[0m\u001b[1;33m\u001b[0m\u001b[1;33m\u001b[0m\u001b[0m\n",
      "\u001b[1;31mNameError\u001b[0m: name 'check_planarity' is not defined"
     ]
    },
    {
     "data": {
      "image/png": "[encoded data removed]",
      "text/plain": [
       "<Figure size 1296x432 with 4 Axes>"
      ]
     },
     "metadata": {
      "needs_background": "light"
     },
     "output_type": "display_data"
    }
   ],
   "source": [
    "# plot fcm\n",
    "for s in species:\n",
    "    \n",
    "    fig, axes = plt.subplots(1,len(dataframes), figsize = (18,6))\n",
    "    #fig.get_axes()[0].annotate(s,(0.5,0.95),xycoords='figure fraction', ha='center',fontsize=20)\n",
    "    counter = 0\n",
    "    for fcm in fcmJsons:\n",
    "\n",
    "        if fcm[2] == s:\n",
    "            G = nx.DiGraph(directed=True)\n",
    "            for entry in fcm[0]['weights']:\n",
    "                G.add_weighted_edges_from([(entry['from'], entry['to'], entry['weight'])])\n",
    "\n",
    "            edge_labels=dict([((u,v,),d['weight'])\n",
    "                             for u,v,d in G.edges(data=True)])\n",
    "\n",
    "            print(nx.check_planarity(G, True))\n",
    "            pos=nx.planar_layout(G)\n",
    "            nx.draw_networkx(G, pos, arrows=True, arrowsize=20, with_labels=True, node_size=600, font_color='black', ax = axes[counter], title = fcm[1])\n",
    "            nx.draw_networkx_edge_labels(G, pos, edge_labels=edge_labels, font_size=10, ax = axes[counter], title = fcm[1])\n",
    "            axes[counter].set_xticklabels([])\n",
    "            axes[counter].set_yticklabels([])\n",
    "            axes[counter].set_title(fcm[1])\n",
    "            counter += 1\n",
    "    fig.suptitle(s, y = 0.97, size = 20)\n",
    "    \n",
    "    plt.tight_layout()\n",
    "    plt.subplots_adjust(top=0.87)\n",
    "    if export:\n",
    "        fig.savefig(folder + \"/\" + s)\n",
    "        "
   ]
  },
  {
   "cell_type": "code",
   "execution_count": null,
   "metadata": {
    "scrolled": false
   },
   "outputs": [],
   "source": [
    "# plot traits grouped by trait and simulation\n",
    "for t in traits:\n",
    "    fig, axes = plt.subplots(1,len(dataframes), figsize = (18,4.5))\n",
    "    fig.get_axes()[0].annotate(t,(0.5,0.95),xycoords='figure fraction', ha='center',fontsize=20)\n",
    "    counter = 0\n",
    "    for df in dataframes:\n",
    "        ax = None\n",
    "        legend = []\n",
    "        for s in species:\n",
    "            col = s + '-' + t\n",
    "            # if e.g Rabbit-speed existed in this simulation, then plot it\n",
    "            if col in df[0].columns:\n",
    "                ax = df[0].plot(kind='line', use_index=True, y=col, grid=True, title=df[1], ax=axes[counter])\n",
    "                legend.append(s)\n",
    "                ax.set_xlabel(\"time\")\n",
    "                ax.yaxis.set_major_formatter(FormatStrFormatter('%.3f'))\n",
    "                counter += 1\n",
    "        # if the the simulation had this trait, then fix legend name\n",
    "        if len(legend) > 0:\n",
    "            ax.legend(legend)\n",
    "    if export:\n",
    "        fig.savefig(folder + \"/\" + t)"
   ]
  },
  {
   "cell_type": "code",
   "execution_count": null,
   "metadata": {},
   "outputs": [],
   "source": []
  }
 ],
 "metadata": {
  "kernelspec": {
   "display_name": "Python 3",
   "language": "python",
   "name": "python3"
  },
  "language_info": {
   "codemirror_mode": {
    "name": "ipython",
    "version": 3
   },
   "file_extension": ".py",
   "mimetype": "text/x-python",
   "name": "python",
   "nbconvert_exporter": "python",
   "pygments_lexer": "ipython3",
   "version": "3.7.4"
  }
 },
 "nbformat": 4,
 "nbformat_minor": 2
}
